{
  "nbformat": 4,
  "nbformat_minor": 0,
  "metadata": {
    "colab": {
      "name": "CIFAR10_CNN.ipynb",
      "provenance": []
    },
    "kernelspec": {
      "name": "python3",
      "display_name": "Python 3"
    },
    "accelerator": "GPU"
  },
  "cells": [
    {
      "cell_type": "code",
      "metadata": {
        "id": "oKZtk7HAv7z_",
        "colab_type": "code",
        "colab": {
          "base_uri": "https://localhost:8080/",
          "height": 34
        },
        "outputId": "b42c32fe-f12f-4f9a-c8b7-694e3882673a"
      },
      "source": [
        "import numpy as np\n",
        "import tensorflow as tf\n",
        "import matplotlib.pyplot as plt\n",
        "from tensorflow.keras.models import Model\n",
        "from tensorflow.keras.layers import Input, Dense, Flatten, Conv2D, Dropout, BatchNormalization,MaxPool2D, GlobalMaxPool2D\n",
        "from sklearn.metrics import confusion_matrix\n",
        "import itertools\n",
        "from keras.models import Sequential\n",
        "from keras.optimizers import RMSprop\n",
        "from keras.preprocessing.image import ImageDataGenerator\n",
        "from keras.callbacks import ReduceLROnPlateau"
      ],
      "execution_count": 1,
      "outputs": [
        {
          "output_type": "stream",
          "text": [
            "Using TensorFlow backend.\n"
          ],
          "name": "stderr"
        }
      ]
    },
    {
      "cell_type": "code",
      "metadata": {
        "id": "BbIjXMUT8EP3",
        "colab_type": "code",
        "colab": {
          "base_uri": "https://localhost:8080/",
          "height": 51
        },
        "outputId": "0de113c9-cb90-46e1-e27a-58cbe94a806f"
      },
      "source": [
        "# load data\n",
        "cifar10 = tf.keras.datasets.cifar10\n",
        "(x_train, y_train), (x_test, y_test) = cifar10.load_data()"
      ],
      "execution_count": 2,
      "outputs": [
        {
          "output_type": "stream",
          "text": [
            "Downloading data from https://www.cs.toronto.edu/~kriz/cifar-10-python.tar.gz\n",
            "170500096/170498071 [==============================] - 11s 0us/step\n"
          ],
          "name": "stdout"
        }
      ]
    },
    {
      "cell_type": "code",
      "metadata": {
        "id": "CyFaVH599Ct0",
        "colab_type": "code",
        "colab": {
          "base_uri": "https://localhost:8080/",
          "height": 85
        },
        "outputId": "f45e3626-8fd8-455c-c586-b92fc3a33965"
      },
      "source": [
        "x_train, x_test = x_train / 255.0, x_test / 255.0\n",
        "y_train, y_test = y_train.flatten(), y_test.flatten() # because target have 2 dim shape\n",
        "print(x_train.shape)\n",
        "print(x_test.shape)\n",
        "print(y_train.shape)\n",
        "print(y_test.shape)"
      ],
      "execution_count": 3,
      "outputs": [
        {
          "output_type": "stream",
          "text": [
            "(50000, 32, 32, 3)\n",
            "(10000, 32, 32, 3)\n",
            "(50000,)\n",
            "(10000,)\n"
          ],
          "name": "stdout"
        }
      ]
    },
    {
      "cell_type": "code",
      "metadata": {
        "id": "MFOb6P_p9TCG",
        "colab_type": "code",
        "colab": {
          "base_uri": "https://localhost:8080/",
          "height": 34
        },
        "outputId": "abb18cf6-8817-4d22-a3cb-d1f854effdf6"
      },
      "source": [
        "# number of classes\n",
        "N = len(set(y_train))\n",
        "print('number of classes: ', N)"
      ],
      "execution_count": 4,
      "outputs": [
        {
          "output_type": "stream",
          "text": [
            "number of classes:  10\n"
          ],
          "name": "stdout"
        }
      ]
    },
    {
      "cell_type": "code",
      "metadata": {
        "id": "lfnLC6NN94dC",
        "colab_type": "code",
        "colab": {}
      },
      "source": [
        "# Build the model using functional API \n",
        "# Without data agumentation\n",
        "i = Input(shape=x_train[0].shape)\n",
        "# x = Conv2D(32, (3, 3), strides=2, activation='relu')(i)\n",
        "# x = Conv2D(64, (3, 3), strides=2, activation='relu')(x)\n",
        "# x = Conv2D(128, (3, 3), strides=2, activation='relu')(x)\n",
        "\n",
        "x = Conv2D(32, (3, 3), activation='relu', padding='same')(i)\n",
        "x = BatchNormalization()(x)\n",
        "x = Conv2D(32, (3, 3), activation='relu', padding='same')(x)\n",
        "x = BatchNormalization()(x)\n",
        "x = MaxPool2D((2, 2))(x)\n",
        "\n",
        "x = Dropout(0.2)(x)\n",
        "\n",
        "x = Conv2D(64, (3, 3), activation='relu', padding='same')(x)\n",
        "x = BatchNormalization()(x)\n",
        "x = Conv2D(64, (3, 3), activation='relu', padding='same')(x)\n",
        "x = BatchNormalization()(x)\n",
        "x = MaxPool2D((2, 2))(x)\n",
        "\n",
        "x = Dropout(0.2)(x)\n",
        "\n",
        "x = Conv2D(128, (3, 3), activation='relu', padding='same')(x)\n",
        "x = BatchNormalization()(x)\n",
        "x = Conv2D(128, (3, 3), activation='relu', padding='same')(x)\n",
        "x = BatchNormalization()(x)\n",
        "x = MaxPool2D((2, 2))(x)\n",
        "\n",
        "x = Dropout(0.2)(x)\n",
        "\n",
        "# x = GlobalMaxPooling2D()(x)\n",
        "x = Flatten()(x)\n",
        "x = Dropout(0.2)(x)\n",
        "x = Dense(1024, activation='relu')(x)\n",
        "x = Dropout(0.2)(x)\n",
        "x = Dense(N, activation='softmax')(x)\n",
        "\n",
        "model = Model(i, x)"
      ],
      "execution_count": 5,
      "outputs": []
    },
    {
      "cell_type": "code",
      "metadata": {
        "id": "E7ljehx7_2jt",
        "colab_type": "code",
        "colab": {}
      },
      "source": [
        "# Compile using GPU\n",
        "model.compile(\n",
        "    optimizer = 'adam',\n",
        "    loss = 'sparse_categorical_crossentropy',\n",
        "    metrics = ['accuracy']\n",
        ")"
      ],
      "execution_count": 6,
      "outputs": []
    },
    {
      "cell_type": "code",
      "metadata": {
        "id": "DOQOQl1oAeeV",
        "colab_type": "code",
        "colab": {
          "base_uri": "https://localhost:8080/",
          "height": 1000
        },
        "outputId": "1ca776ad-7b7f-4523-cccf-ffbd0e5b6cf5"
      },
      "source": [
        "# Fit\n",
        "# m = model.fit(\n",
        "#     x_train, y_train,\n",
        "#     validation_data = (x_test, y_test),\n",
        "#     epochs = 50\n",
        "# )"
      ],
      "execution_count": null,
      "outputs": [
        {
          "output_type": "stream",
          "text": [
            "Epoch 1/50\n",
            "1563/1563 [==============================] - 25s 16ms/step - loss: 1.4864 - accuracy: 0.4605 - val_loss: 1.2217 - val_accuracy: 0.5676\n",
            "Epoch 2/50\n",
            "1563/1563 [==============================] - 24s 16ms/step - loss: 1.0598 - accuracy: 0.6233 - val_loss: 0.9067 - val_accuracy: 0.6769\n",
            "Epoch 3/50\n",
            "1563/1563 [==============================] - 24s 16ms/step - loss: 0.8948 - accuracy: 0.6872 - val_loss: 0.8214 - val_accuracy: 0.7064\n",
            "Epoch 4/50\n",
            "1563/1563 [==============================] - 24s 16ms/step - loss: 0.7928 - accuracy: 0.7260 - val_loss: 0.8831 - val_accuracy: 0.7023\n",
            "Epoch 5/50\n",
            "1563/1563 [==============================] - 24s 16ms/step - loss: 0.7190 - accuracy: 0.7532 - val_loss: 0.7291 - val_accuracy: 0.7582\n",
            "Epoch 6/50\n",
            "1563/1563 [==============================] - 24s 15ms/step - loss: 0.6622 - accuracy: 0.7734 - val_loss: 0.5923 - val_accuracy: 0.7986\n",
            "Epoch 7/50\n",
            "1563/1563 [==============================] - 24s 15ms/step - loss: 0.6187 - accuracy: 0.7895 - val_loss: 0.5843 - val_accuracy: 0.8068\n",
            "Epoch 8/50\n",
            "1563/1563 [==============================] - 24s 16ms/step - loss: 0.5814 - accuracy: 0.8021 - val_loss: 0.7047 - val_accuracy: 0.7855\n",
            "Epoch 9/50\n",
            "1563/1563 [==============================] - 25s 16ms/step - loss: 0.5612 - accuracy: 0.8081 - val_loss: 0.5702 - val_accuracy: 0.8167\n",
            "Epoch 10/50\n",
            "1563/1563 [==============================] - 24s 15ms/step - loss: 0.5389 - accuracy: 0.8160 - val_loss: 0.6100 - val_accuracy: 0.8123\n",
            "Epoch 11/50\n",
            "1563/1563 [==============================] - 24s 16ms/step - loss: 0.5123 - accuracy: 0.8263 - val_loss: 0.6845 - val_accuracy: 0.8009\n",
            "Epoch 12/50\n",
            "1563/1563 [==============================] - 24s 16ms/step - loss: 0.4876 - accuracy: 0.8350 - val_loss: 0.8206 - val_accuracy: 0.8033\n",
            "Epoch 13/50\n",
            "1563/1563 [==============================] - 24s 16ms/step - loss: 0.4671 - accuracy: 0.8410 - val_loss: 0.6749 - val_accuracy: 0.8262\n",
            "Epoch 14/50\n",
            "1563/1563 [==============================] - 24s 16ms/step - loss: 0.4566 - accuracy: 0.8449 - val_loss: 0.6037 - val_accuracy: 0.8331\n",
            "Epoch 15/50\n",
            "1563/1563 [==============================] - 24s 16ms/step - loss: 0.4358 - accuracy: 0.8515 - val_loss: 0.6651 - val_accuracy: 0.8182\n",
            "Epoch 16/50\n",
            "1563/1563 [==============================] - 24s 16ms/step - loss: 0.4248 - accuracy: 0.8536 - val_loss: 0.7193 - val_accuracy: 0.8246\n",
            "Epoch 17/50\n",
            "1563/1563 [==============================] - 24s 16ms/step - loss: 0.4068 - accuracy: 0.8596 - val_loss: 0.8627 - val_accuracy: 0.8031\n",
            "Epoch 18/50\n",
            "1563/1563 [==============================] - 24s 16ms/step - loss: 0.3990 - accuracy: 0.8629 - val_loss: 0.7954 - val_accuracy: 0.8330\n",
            "Epoch 19/50\n",
            "1563/1563 [==============================] - 24s 16ms/step - loss: 0.3885 - accuracy: 0.8686 - val_loss: 0.7537 - val_accuracy: 0.8332\n",
            "Epoch 20/50\n",
            "1563/1563 [==============================] - 24s 16ms/step - loss: 0.3735 - accuracy: 0.8720 - val_loss: 0.7790 - val_accuracy: 0.8368\n",
            "Epoch 21/50\n",
            "1563/1563 [==============================] - 25s 16ms/step - loss: 0.3617 - accuracy: 0.8763 - val_loss: 0.8156 - val_accuracy: 0.8298\n",
            "Epoch 22/50\n",
            "1563/1563 [==============================] - 25s 16ms/step - loss: 0.3562 - accuracy: 0.8767 - val_loss: 0.8198 - val_accuracy: 0.8356\n",
            "Epoch 23/50\n",
            "1563/1563 [==============================] - 24s 16ms/step - loss: 0.3480 - accuracy: 0.8804 - val_loss: 0.7713 - val_accuracy: 0.8460\n",
            "Epoch 24/50\n",
            "1563/1563 [==============================] - 24s 16ms/step - loss: 0.3383 - accuracy: 0.8845 - val_loss: 0.8584 - val_accuracy: 0.8327\n",
            "Epoch 25/50\n",
            "1563/1563 [==============================] - 24s 16ms/step - loss: 0.3313 - accuracy: 0.8852 - val_loss: 0.9906 - val_accuracy: 0.8345\n",
            "Epoch 26/50\n",
            "1563/1563 [==============================] - 24s 16ms/step - loss: 0.3270 - accuracy: 0.8879 - val_loss: 0.9638 - val_accuracy: 0.8419\n",
            "Epoch 27/50\n",
            "1563/1563 [==============================] - 24s 16ms/step - loss: 0.3215 - accuracy: 0.8899 - val_loss: 0.8678 - val_accuracy: 0.8526\n",
            "Epoch 28/50\n",
            "1563/1563 [==============================] - 24s 16ms/step - loss: 0.3146 - accuracy: 0.8897 - val_loss: 0.9049 - val_accuracy: 0.8451\n",
            "Epoch 29/50\n",
            "1563/1563 [==============================] - 24s 16ms/step - loss: 0.3067 - accuracy: 0.8943 - val_loss: 1.0318 - val_accuracy: 0.8367\n",
            "Epoch 30/50\n",
            "1563/1563 [==============================] - 24s 16ms/step - loss: 0.2993 - accuracy: 0.8955 - val_loss: 1.1639 - val_accuracy: 0.8428\n",
            "Epoch 31/50\n",
            "1563/1563 [==============================] - 24s 16ms/step - loss: 0.2943 - accuracy: 0.8974 - val_loss: 0.9400 - val_accuracy: 0.8507\n",
            "Epoch 32/50\n",
            "1563/1563 [==============================] - 24s 16ms/step - loss: 0.2928 - accuracy: 0.8992 - val_loss: 0.8920 - val_accuracy: 0.8573\n",
            "Epoch 33/50\n",
            "1563/1563 [==============================] - 24s 16ms/step - loss: 0.2870 - accuracy: 0.9013 - val_loss: 0.9560 - val_accuracy: 0.8561\n",
            "Epoch 34/50\n",
            "1563/1563 [==============================] - 25s 16ms/step - loss: 0.2845 - accuracy: 0.9012 - val_loss: 0.9826 - val_accuracy: 0.8437\n",
            "Epoch 35/50\n",
            "1563/1563 [==============================] - 24s 16ms/step - loss: 0.2746 - accuracy: 0.9043 - val_loss: 0.9536 - val_accuracy: 0.8552\n",
            "Epoch 36/50\n",
            "1563/1563 [==============================] - 24s 16ms/step - loss: 0.2741 - accuracy: 0.9047 - val_loss: 0.8649 - val_accuracy: 0.8591\n",
            "Epoch 37/50\n",
            "1563/1563 [==============================] - 24s 16ms/step - loss: 0.2681 - accuracy: 0.9070 - val_loss: 1.0542 - val_accuracy: 0.8482\n",
            "Epoch 38/50\n",
            "1563/1563 [==============================] - 24s 16ms/step - loss: 0.2628 - accuracy: 0.9092 - val_loss: 1.0508 - val_accuracy: 0.8571\n",
            "Epoch 39/50\n",
            "1563/1563 [==============================] - 24s 16ms/step - loss: 0.2609 - accuracy: 0.9098 - val_loss: 0.9506 - val_accuracy: 0.8539\n",
            "Epoch 40/50\n",
            "1563/1563 [==============================] - 24s 16ms/step - loss: 0.2537 - accuracy: 0.9113 - val_loss: 1.2277 - val_accuracy: 0.8468\n",
            "Epoch 41/50\n",
            "1563/1563 [==============================] - 24s 16ms/step - loss: 0.2509 - accuracy: 0.9127 - val_loss: 1.1641 - val_accuracy: 0.8550\n",
            "Epoch 42/50\n",
            "1563/1563 [==============================] - 24s 16ms/step - loss: 0.2496 - accuracy: 0.9127 - val_loss: 1.0871 - val_accuracy: 0.8534\n",
            "Epoch 43/50\n",
            "1563/1563 [==============================] - 24s 16ms/step - loss: 0.2454 - accuracy: 0.9145 - val_loss: 1.3959 - val_accuracy: 0.8367\n",
            "Epoch 44/50\n",
            "1563/1563 [==============================] - 24s 16ms/step - loss: 0.2461 - accuracy: 0.9148 - val_loss: 1.1945 - val_accuracy: 0.8586\n",
            "Epoch 45/50\n",
            "1563/1563 [==============================] - 24s 16ms/step - loss: 0.2411 - accuracy: 0.9146 - val_loss: 1.1348 - val_accuracy: 0.8565\n",
            "Epoch 46/50\n",
            "1563/1563 [==============================] - 26s 17ms/step - loss: 0.2408 - accuracy: 0.9174 - val_loss: 1.3585 - val_accuracy: 0.8340\n",
            "Epoch 47/50\n",
            "1563/1563 [==============================] - 25s 16ms/step - loss: 0.2378 - accuracy: 0.9182 - val_loss: 1.2703 - val_accuracy: 0.8496\n",
            "Epoch 48/50\n",
            "1563/1563 [==============================] - 25s 16ms/step - loss: 0.2376 - accuracy: 0.9173 - val_loss: 1.1773 - val_accuracy: 0.8605\n",
            "Epoch 49/50\n",
            "1563/1563 [==============================] - 24s 16ms/step - loss: 0.2310 - accuracy: 0.9204 - val_loss: 1.1449 - val_accuracy: 0.8575\n",
            "Epoch 50/50\n",
            "1563/1563 [==============================] - 24s 16ms/step - loss: 0.2261 - accuracy: 0.9224 - val_loss: 0.9923 - val_accuracy: 0.8591\n"
          ],
          "name": "stdout"
        }
      ]
    },
    {
      "cell_type": "code",
      "metadata": {
        "id": "l6Ne7Sn2TbKT",
        "colab_type": "code",
        "colab": {
          "base_uri": "https://localhost:8080/",
          "height": 282
        },
        "outputId": "209d1a58-a442-4902-b62d-8915a6f044f5"
      },
      "source": [
        "# # Plot loss per iteration\n",
        "# import matplotlib.pyplot as plt\n",
        "# plt.plot(m.history['loss'], label='loss')\n",
        "# plt.plot(m.history['val_loss'], label='val_loss')\n",
        "# plt.legend()"
      ],
      "execution_count": null,
      "outputs": [
        {
          "output_type": "execute_result",
          "data": {
            "text/plain": [
              "<matplotlib.legend.Legend at 0x7f721159c4e0>"
            ]
          },
          "metadata": {
            "tags": []
          },
          "execution_count": 15
        },
        {
          "output_type": "display_data",
          "data": {
            "image/png": "[encoded data removed]",
            "text/plain": [
              "<Figure size 432x288 with 1 Axes>"
            ]
          },
          "metadata": {
            "tags": [],
            "needs_background": "light"
          }
        }
      ]
    },
    {
      "cell_type": "code",
      "metadata": {
        "id": "xF0Jrz-hTbgo",
        "colab_type": "code",
        "colab": {
          "base_uri": "https://localhost:8080/",
          "height": 282
        },
        "outputId": "c34a9d06-cc84-4d18-9238-19f317c3c90c"
      },
      "source": [
        "# # Plot accuracy per iteration\n",
        "# plt.plot(m.history['accuracy'], label='acc')\n",
        "# plt.plot(m.history['val_accuracy'], label='val_acc')\n",
        "# plt.legend()"
      ],
      "execution_count": null,
      "outputs": [
        {
          "output_type": "execute_result",
          "data": {
            "text/plain": [
              "<matplotlib.legend.Legend at 0x7f72116599b0>"
            ]
          },
          "metadata": {
            "tags": []
          },
          "execution_count": 17
        },
        {
          "output_type": "display_data",
          "data": {
            "image/png": "[encoded data removed]",
            "text/plain": [
              "<Figure size 432x288 with 1 Axes>"
            ]
          },
          "metadata": {
            "tags": [],
            "needs_background": "light"
          }
        }
      ]
    },
    {
      "cell_type": "code",
      "metadata": {
        "id": "ZU7iVE3iTbVv",
        "colab_type": "code",
        "colab": {
          "base_uri": "https://localhost:8080/",
          "height": 498
        },
        "outputId": "4a63b4ac-d0f0-4cdd-b4ae-2321932db1de"
      },
      "source": [
        "# # Plot confusion matrix\n",
        "# from sklearn.metrics import confusion_matrix\n",
        "# import itertools\n",
        "\n",
        "# def plot_confusion_matrix(cm, classes,\n",
        "#                           normalize=False,\n",
        "#                           title='Confusion matrix',\n",
        "#                           cmap=plt.cm.Blues):\n",
        "#   \"\"\"\n",
        "#   This function prints and plots the confusion matrix.\n",
        "#   Normalization can be applied by setting `normalize=True`.\n",
        "#   \"\"\"\n",
        "#   if normalize:\n",
        "#       cm = cm.astype('float') / cm.sum(axis=1)[:, np.newaxis]\n",
        "#       print(\"Normalized confusion matrix\")\n",
        "#   else:\n",
        "#       print('Confusion matrix, without normalization')\n",
        "\n",
        "#   print(cm)\n",
        "\n",
        "#   plt.imshow(cm, interpolation='nearest', cmap=cmap)\n",
        "#   plt.title(title)\n",
        "#   plt.colorbar()\n",
        "#   tick_marks = np.arange(len(classes))\n",
        "#   plt.xticks(tick_marks, classes, rotation=45)\n",
        "#   plt.yticks(tick_marks, classes)\n",
        "\n",
        "#   fmt = '.2f' if normalize else 'd'\n",
        "#   thresh = cm.max() / 2.\n",
        "#   for i, j in itertools.product(range(cm.shape[0]), range(cm.shape[1])):\n",
        "#       plt.text(j, i, format(cm[i, j], fmt),\n",
        "#                horizontalalignment=\"center\",\n",
        "#                color=\"white\" if cm[i, j] > thresh else \"black\")\n",
        "\n",
        "#   plt.tight_layout()\n",
        "#   plt.ylabel('True label')\n",
        "#   plt.xlabel('Predicted label')\n",
        "#   plt.show()\n",
        "\n",
        "\n",
        "# p_test = model.predict(x_test).argmax(axis=1)\n",
        "# cm = confusion_matrix(y_test, p_test)\n",
        "# plot_confusion_matrix(cm, list(range(10)))\n",
        "\n"
      ],
      "execution_count": null,
      "outputs": [
        {
          "output_type": "stream",
          "text": [
            "Confusion matrix, without normalization\n",
            "[[909  10  22   2   6   3   1   6  29  12]\n",
            " [ 11 932   2   1   1   1   2   0  10  40]\n",
            " [ 59   0 801  24  40  22  31  17   4   2]\n",
            " [ 39   3  37 704  45  90  47  24   7   4]\n",
            " [ 14   1  36  12 860  21  24  27   5   0]\n",
            " [ 20   1  23 108  28 767  17  31   2   3]\n",
            " [ 10   3  28  22  16   7 907   2   4   1]\n",
            " [  9   1  11  19  28  18   8 899   4   3]\n",
            " [ 46  13   6   6   3   0   3   2 913   8]\n",
            " [ 20  45   4   4   2   2   5   2  17 899]]\n"
          ],
          "name": "stdout"
        },
        {
          "output_type": "display_data",
          "data": {
            "image/png": "[encoded data removed]",
            "text/plain": [
              "<Figure size 432x288 with 2 Axes>"
            ]
          },
          "metadata": {
            "tags": [],
            "needs_background": "light"
          }
        }
      ]
    },
    {
      "cell_type": "code",
      "metadata": {
        "id": "W_JYC7-LTa8k",
        "colab_type": "code",
        "colab": {}
      },
      "source": [
        "# # label mapping\n",
        "# labels = '''airplane\n",
        "# automobile\n",
        "# bird\n",
        "# cat\n",
        "# deer\n",
        "# dog\n",
        "# frog\n",
        "# horse\n",
        "# ship\n",
        "# truck'''.split()"
      ],
      "execution_count": null,
      "outputs": []
    },
    {
      "cell_type": "code",
      "metadata": {
        "id": "mpAnrf1tTtoh",
        "colab_type": "code",
        "colab": {
          "base_uri": "https://localhost:8080/",
          "height": 281
        },
        "outputId": "87968e74-7593-423a-dbdb-a3ed7d37873d"
      },
      "source": [
        "# # Show some misclassified examples\n",
        "# misclassified_idx = np.where(p_test != y_test)[0]\n",
        "# i = np.random.choice(misclassified_idx)\n",
        "# plt.imshow(x_test[i], cmap='gray')\n",
        "# plt.title(\"True label: %s Predicted: %s\" % (labels[y_test[i]], labels[p_test[i]]));"
      ],
      "execution_count": null,
      "outputs": [
        {
          "output_type": "display_data",
          "data": {
            "image/png": "[encoded data removed]",
            "text/plain": [
              "<Figure size 432x288 with 1 Axes>"
            ]
          },
          "metadata": {
            "tags": [],
            "needs_background": "light"
          }
        }
      ]
    },
    {
      "cell_type": "code",
      "metadata": {
        "id": "cAI19GK9WbbR",
        "colab_type": "code",
        "colab": {}
      },
      "source": [
        "# turn back and run all cells until previous fit cell (do not run fit cell), stop there and come and run cell below and go on"
      ],
      "execution_count": null,
      "outputs": []
    },
    {
      "cell_type": "code",
      "metadata": {
        "id": "CzEZsaA5INlf",
        "colab_type": "code",
        "colab": {}
      },
      "source": [
        "learning_rate_reduction = tf.keras.callbacks.ReduceLROnPlateau(monitor='val_accuracy',\n",
        "                                            patience = 3,\n",
        "                                            verbose = 1,\n",
        "                                            factor = 0.5,\n",
        "                                            min_lr = 0.00001)"
      ],
      "execution_count": 7,
      "outputs": []
    },
    {
      "cell_type": "code",
      "metadata": {
        "id": "b4co9gC5IPYo",
        "colab_type": "code",
        "colab": {}
      },
      "source": [
        ""
      ],
      "execution_count": null,
      "outputs": []
    },
    {
      "cell_type": "code",
      "metadata": {
        "id": "3v8sRZY9Ay6I",
        "colab_type": "code",
        "colab": {}
      },
      "source": [
        "# Fit with data augmentation\n",
        "epochs = 50\n",
        "batch_size = 86\n",
        "data_generator = tf.keras.preprocessing.image.ImageDataGenerator(\n",
        "    width_shift_range=0.1, \n",
        "    height_shift_range=0.1, \n",
        "    horizontal_flip=True,\n",
        "    rotation_range=10,\n",
        "    zoom_range=0.1)\n",
        "\n",
        "data_generator.fit(x_train)"
      ],
      "execution_count": 8,
      "outputs": []
    },
    {
      "cell_type": "code",
      "metadata": {
        "id": "i87WxP25IxV-",
        "colab_type": "code",
        "colab": {}
      },
      "source": [
        "train_generator = data_generator.flow(x_train, y_train, batch_size)\n",
        "steps_per_epoch = x_train.shape[0] // batch_size"
      ],
      "execution_count": 9,
      "outputs": []
    },
    {
      "cell_type": "code",
      "metadata": {
        "id": "wi2rz5n_Izij",
        "colab_type": "code",
        "colab": {
          "base_uri": "https://localhost:8080/",
          "height": 1000
        },
        "outputId": "77bd4121-991a-4410-d7e2-ae5c102ad0a7"
      },
      "source": [
        "r = model.fit(\n",
        "    train_generator, \n",
        "    validation_data=(x_test, y_test), \n",
        "    steps_per_epoch=steps_per_epoch, \n",
        "    epochs=epochs,\n",
        "    callbacks=learning_rate_reduction)"
      ],
      "execution_count": 10,
      "outputs": [
        {
          "output_type": "stream",
          "text": [
            "Epoch 1/50\n",
            "581/581 [==============================] - 42s 73ms/step - loss: 1.6351 - accuracy: 0.4465 - val_loss: 1.1965 - val_accuracy: 0.5672 - lr: 0.0010\n",
            "Epoch 2/50\n",
            "581/581 [==============================] - 42s 72ms/step - loss: 1.1351 - accuracy: 0.5960 - val_loss: 1.1507 - val_accuracy: 0.6142 - lr: 0.0010\n",
            "Epoch 3/50\n",
            "581/581 [==============================] - 42s 72ms/step - loss: 0.9618 - accuracy: 0.6616 - val_loss: 0.9937 - val_accuracy: 0.6585 - lr: 0.0010\n",
            "Epoch 4/50\n",
            "581/581 [==============================] - 42s 72ms/step - loss: 0.8621 - accuracy: 0.7013 - val_loss: 0.8311 - val_accuracy: 0.7161 - lr: 0.0010\n",
            "Epoch 5/50\n",
            "581/581 [==============================] - 43s 73ms/step - loss: 0.7985 - accuracy: 0.7238 - val_loss: 0.8290 - val_accuracy: 0.7204 - lr: 0.0010\n",
            "Epoch 6/50\n",
            "581/581 [==============================] - 42s 73ms/step - loss: 0.7528 - accuracy: 0.7404 - val_loss: 0.8715 - val_accuracy: 0.7122 - lr: 0.0010\n",
            "Epoch 7/50\n",
            "581/581 [==============================] - 42s 73ms/step - loss: 0.7095 - accuracy: 0.7540 - val_loss: 0.7176 - val_accuracy: 0.7516 - lr: 0.0010\n",
            "Epoch 8/50\n",
            "581/581 [==============================] - 42s 72ms/step - loss: 0.6793 - accuracy: 0.7653 - val_loss: 0.8016 - val_accuracy: 0.7312 - lr: 0.0010\n",
            "Epoch 9/50\n",
            "581/581 [==============================] - 42s 72ms/step - loss: 0.6457 - accuracy: 0.7772 - val_loss: 0.6250 - val_accuracy: 0.7920 - lr: 0.0010\n",
            "Epoch 10/50\n",
            "581/581 [==============================] - 42s 72ms/step - loss: 0.6248 - accuracy: 0.7861 - val_loss: 0.6274 - val_accuracy: 0.7945 - lr: 0.0010\n",
            "Epoch 11/50\n",
            "581/581 [==============================] - 42s 72ms/step - loss: 0.6096 - accuracy: 0.7924 - val_loss: 0.6659 - val_accuracy: 0.7761 - lr: 0.0010\n",
            "Epoch 12/50\n",
            "581/581 [==============================] - 42s 72ms/step - loss: 0.5884 - accuracy: 0.7961 - val_loss: 0.6054 - val_accuracy: 0.8006 - lr: 0.0010\n",
            "Epoch 13/50\n",
            "581/581 [==============================] - 41s 71ms/step - loss: 0.5656 - accuracy: 0.8061 - val_loss: 0.5334 - val_accuracy: 0.8203 - lr: 0.0010\n",
            "Epoch 14/50\n",
            "581/581 [==============================] - 41s 71ms/step - loss: 0.5469 - accuracy: 0.8110 - val_loss: 0.7008 - val_accuracy: 0.7640 - lr: 0.0010\n",
            "Epoch 15/50\n",
            "581/581 [==============================] - 41s 71ms/step - loss: 0.5401 - accuracy: 0.8142 - val_loss: 0.6096 - val_accuracy: 0.7982 - lr: 0.0010\n",
            "Epoch 16/50\n",
            "581/581 [==============================] - ETA: 0s - loss: 0.5254 - accuracy: 0.8189\n",
            "Epoch 00016: ReduceLROnPlateau reducing learning rate to 0.0005000000237487257.\n",
            "581/581 [==============================] - 41s 71ms/step - loss: 0.5254 - accuracy: 0.8189 - val_loss: 0.5593 - val_accuracy: 0.8104 - lr: 0.0010\n",
            "Epoch 17/50\n",
            "581/581 [==============================] - 41s 71ms/step - loss: 0.4657 - accuracy: 0.8410 - val_loss: 0.4929 - val_accuracy: 0.8399 - lr: 5.0000e-04\n",
            "Epoch 18/50\n",
            "581/581 [==============================] - 41s 71ms/step - loss: 0.4410 - accuracy: 0.8476 - val_loss: 0.4484 - val_accuracy: 0.8503 - lr: 5.0000e-04\n",
            "Epoch 19/50\n",
            "581/581 [==============================] - 41s 71ms/step - loss: 0.4341 - accuracy: 0.8496 - val_loss: 0.4632 - val_accuracy: 0.8508 - lr: 5.0000e-04\n",
            "Epoch 20/50\n",
            "581/581 [==============================] - 41s 71ms/step - loss: 0.4227 - accuracy: 0.8526 - val_loss: 0.4552 - val_accuracy: 0.8485 - lr: 5.0000e-04\n",
            "Epoch 21/50\n",
            "581/581 [==============================] - 41s 71ms/step - loss: 0.4206 - accuracy: 0.8551 - val_loss: 0.4110 - val_accuracy: 0.8614 - lr: 5.0000e-04\n",
            "Epoch 22/50\n",
            "581/581 [==============================] - 41s 70ms/step - loss: 0.4096 - accuracy: 0.8593 - val_loss: 0.4393 - val_accuracy: 0.8526 - lr: 5.0000e-04\n",
            "Epoch 23/50\n",
            "581/581 [==============================] - 41s 70ms/step - loss: 0.4018 - accuracy: 0.8614 - val_loss: 0.4673 - val_accuracy: 0.8452 - lr: 5.0000e-04\n",
            "Epoch 24/50\n",
            "581/581 [==============================] - ETA: 0s - loss: 0.3924 - accuracy: 0.8628\n",
            "Epoch 00024: ReduceLROnPlateau reducing learning rate to 0.0002500000118743628.\n",
            "581/581 [==============================] - 41s 70ms/step - loss: 0.3924 - accuracy: 0.8628 - val_loss: 0.4447 - val_accuracy: 0.8543 - lr: 5.0000e-04\n",
            "Epoch 25/50\n",
            "581/581 [==============================] - 41s 71ms/step - loss: 0.3705 - accuracy: 0.8718 - val_loss: 0.4254 - val_accuracy: 0.8625 - lr: 2.5000e-04\n",
            "Epoch 26/50\n",
            "581/581 [==============================] - 42s 72ms/step - loss: 0.3529 - accuracy: 0.8763 - val_loss: 0.4052 - val_accuracy: 0.8630 - lr: 2.5000e-04\n",
            "Epoch 27/50\n",
            "581/581 [==============================] - 42s 73ms/step - loss: 0.3486 - accuracy: 0.8773 - val_loss: 0.3959 - val_accuracy: 0.8674 - lr: 2.5000e-04\n",
            "Epoch 28/50\n",
            "581/581 [==============================] - 42s 73ms/step - loss: 0.3453 - accuracy: 0.8793 - val_loss: 0.4348 - val_accuracy: 0.8573 - lr: 2.5000e-04\n",
            "Epoch 29/50\n",
            "581/581 [==============================] - 42s 72ms/step - loss: 0.3382 - accuracy: 0.8816 - val_loss: 0.3935 - val_accuracy: 0.8671 - lr: 2.5000e-04\n",
            "Epoch 30/50\n",
            "581/581 [==============================] - ETA: 0s - loss: 0.3331 - accuracy: 0.8842\n",
            "Epoch 00030: ReduceLROnPlateau reducing learning rate to 0.0001250000059371814.\n",
            "581/581 [==============================] - 41s 71ms/step - loss: 0.3331 - accuracy: 0.8842 - val_loss: 0.4028 - val_accuracy: 0.8651 - lr: 2.5000e-04\n",
            "Epoch 31/50\n",
            "581/581 [==============================] - 42s 72ms/step - loss: 0.3184 - accuracy: 0.8896 - val_loss: 0.3990 - val_accuracy: 0.8680 - lr: 1.2500e-04\n",
            "Epoch 32/50\n",
            "581/581 [==============================] - 42s 72ms/step - loss: 0.3115 - accuracy: 0.8903 - val_loss: 0.4164 - val_accuracy: 0.8640 - lr: 1.2500e-04\n",
            "Epoch 33/50\n",
            "581/581 [==============================] - 42s 72ms/step - loss: 0.3119 - accuracy: 0.8914 - val_loss: 0.3766 - val_accuracy: 0.8734 - lr: 1.2500e-04\n",
            "Epoch 34/50\n",
            "581/581 [==============================] - 42s 73ms/step - loss: 0.3069 - accuracy: 0.8938 - val_loss: 0.3877 - val_accuracy: 0.8722 - lr: 1.2500e-04\n",
            "Epoch 35/50\n",
            "581/581 [==============================] - 42s 73ms/step - loss: 0.3054 - accuracy: 0.8934 - val_loss: 0.3941 - val_accuracy: 0.8691 - lr: 1.2500e-04\n",
            "Epoch 36/50\n",
            "581/581 [==============================] - ETA: 0s - loss: 0.3030 - accuracy: 0.8929\n",
            "Epoch 00036: ReduceLROnPlateau reducing learning rate to 6.25000029685907e-05.\n",
            "581/581 [==============================] - 42s 73ms/step - loss: 0.3030 - accuracy: 0.8929 - val_loss: 0.3980 - val_accuracy: 0.8688 - lr: 1.2500e-04\n",
            "Epoch 37/50\n",
            "581/581 [==============================] - 43s 74ms/step - loss: 0.2926 - accuracy: 0.8974 - val_loss: 0.3785 - val_accuracy: 0.8747 - lr: 6.2500e-05\n",
            "Epoch 38/50\n",
            "581/581 [==============================] - 43s 74ms/step - loss: 0.2942 - accuracy: 0.8962 - val_loss: 0.3766 - val_accuracy: 0.8734 - lr: 6.2500e-05\n",
            "Epoch 39/50\n",
            "581/581 [==============================] - 42s 73ms/step - loss: 0.2921 - accuracy: 0.8982 - val_loss: 0.3878 - val_accuracy: 0.8731 - lr: 6.2500e-05\n",
            "Epoch 40/50\n",
            "581/581 [==============================] - 42s 73ms/step - loss: 0.2896 - accuracy: 0.8966 - val_loss: 0.3751 - val_accuracy: 0.8782 - lr: 6.2500e-05\n",
            "Epoch 41/50\n",
            "581/581 [==============================] - 42s 72ms/step - loss: 0.2860 - accuracy: 0.8989 - val_loss: 0.3787 - val_accuracy: 0.8737 - lr: 6.2500e-05\n",
            "Epoch 42/50\n",
            "581/581 [==============================] - 43s 73ms/step - loss: 0.2823 - accuracy: 0.9002 - val_loss: 0.3754 - val_accuracy: 0.8756 - lr: 6.2500e-05\n",
            "Epoch 43/50\n",
            "581/581 [==============================] - ETA: 0s - loss: 0.2842 - accuracy: 0.8981\n",
            "Epoch 00043: ReduceLROnPlateau reducing learning rate to 3.125000148429535e-05.\n",
            "581/581 [==============================] - 42s 73ms/step - loss: 0.2842 - accuracy: 0.8981 - val_loss: 0.3780 - val_accuracy: 0.8739 - lr: 6.2500e-05\n",
            "Epoch 44/50\n",
            "581/581 [==============================] - 42s 73ms/step - loss: 0.2792 - accuracy: 0.9010 - val_loss: 0.3759 - val_accuracy: 0.8753 - lr: 3.1250e-05\n",
            "Epoch 45/50\n",
            "581/581 [==============================] - 42s 73ms/step - loss: 0.2760 - accuracy: 0.9037 - val_loss: 0.3753 - val_accuracy: 0.8738 - lr: 3.1250e-05\n",
            "Epoch 46/50\n",
            "581/581 [==============================] - ETA: 0s - loss: 0.2804 - accuracy: 0.9008\n",
            "Epoch 00046: ReduceLROnPlateau reducing learning rate to 1.5625000742147677e-05.\n",
            "581/581 [==============================] - 42s 72ms/step - loss: 0.2804 - accuracy: 0.9008 - val_loss: 0.3748 - val_accuracy: 0.8765 - lr: 3.1250e-05\n",
            "Epoch 47/50\n",
            "581/581 [==============================] - 42s 72ms/step - loss: 0.2795 - accuracy: 0.9020 - val_loss: 0.3699 - val_accuracy: 0.8771 - lr: 1.5625e-05\n",
            "Epoch 48/50\n",
            "581/581 [==============================] - 42s 72ms/step - loss: 0.2737 - accuracy: 0.9030 - val_loss: 0.3745 - val_accuracy: 0.8757 - lr: 1.5625e-05\n",
            "Epoch 49/50\n",
            "581/581 [==============================] - ETA: 0s - loss: 0.2764 - accuracy: 0.9035\n",
            "Epoch 00049: ReduceLROnPlateau reducing learning rate to 1e-05.\n",
            "581/581 [==============================] - 43s 73ms/step - loss: 0.2764 - accuracy: 0.9035 - val_loss: 0.3732 - val_accuracy: 0.8768 - lr: 1.5625e-05\n",
            "Epoch 50/50\n",
            "581/581 [==============================] - 42s 73ms/step - loss: 0.2704 - accuracy: 0.9040 - val_loss: 0.3686 - val_accuracy: 0.8778 - lr: 1.0000e-05\n"
          ],
          "name": "stdout"
        }
      ]
    },
    {
      "cell_type": "code",
      "metadata": {
        "id": "26dxI0hqIUPm",
        "colab_type": "code",
        "colab": {
          "base_uri": "https://localhost:8080/",
          "height": 282
        },
        "outputId": "9f41d241-58de-4d12-996a-73f60e6197a7"
      },
      "source": [
        "# Plot loss per iteration\n",
        "import matplotlib.pyplot as plt\n",
        "plt.plot(r.history['loss'], label='loss')\n",
        "plt.plot(r.history['val_loss'], label='val_loss')\n",
        "plt.legend()"
      ],
      "execution_count": 11,
      "outputs": [
        {
          "output_type": "execute_result",
          "data": {
            "text/plain": [
              "<matplotlib.legend.Legend at 0x7fd2f453c390>"
            ]
          },
          "metadata": {
            "tags": []
          },
          "execution_count": 11
        },
        {
          "output_type": "display_data",
          "data": {
            "image/png": "[encoded data removed]",
            "text/plain": [
              "<Figure size 432x288 with 1 Axes>"
            ]
          },
          "metadata": {
            "tags": [],
            "needs_background": "light"
          }
        }
      ]
    },
    {
      "cell_type": "code",
      "metadata": {
        "id": "maTjOcXpS3PM",
        "colab_type": "code",
        "colab": {
          "base_uri": "https://localhost:8080/",
          "height": 282
        },
        "outputId": "285f9a23-190f-468d-f84a-ac01229ed0ce"
      },
      "source": [
        "# Plot accuracy per iteration\n",
        "plt.plot(r.history['accuracy'], label='acc')\n",
        "plt.plot(r.history['val_accuracy'], label='val_acc')\n",
        "plt.legend()"
      ],
      "execution_count": 12,
      "outputs": [
        {
          "output_type": "execute_result",
          "data": {
            "text/plain": [
              "<matplotlib.legend.Legend at 0x7fd2f4699f60>"
            ]
          },
          "metadata": {
            "tags": []
          },
          "execution_count": 12
        },
        {
          "output_type": "display_data",
          "data": {
            "image/png": "[encoded data removed]",
            "text/plain": [
              "<Figure size 432x288 with 1 Axes>"
            ]
          },
          "metadata": {
            "tags": [],
            "needs_background": "light"
          }
        }
      ]
    },
    {
      "cell_type": "code",
      "metadata": {
        "id": "F_1-UTVlTChx",
        "colab_type": "code",
        "colab": {
          "base_uri": "https://localhost:8080/",
          "height": 498
        },
        "outputId": "d6b9e1eb-f91c-451e-b1a8-9134f259a6f4"
      },
      "source": [
        "# Plot confusion matrix\n",
        "from sklearn.metrics import confusion_matrix\n",
        "import itertools\n",
        "\n",
        "def plot_confusion_matrix(cm, classes,\n",
        "                          normalize=False,\n",
        "                          title='Confusion matrix',\n",
        "                          cmap=plt.cm.Blues):\n",
        "  \"\"\"\n",
        "  This function prints and plots the confusion matrix.\n",
        "  Normalization can be applied by setting `normalize=True`.\n",
        "  \"\"\"\n",
        "  if normalize:\n",
        "      cm = cm.astype('float') / cm.sum(axis=1)[:, np.newaxis]\n",
        "      print(\"Normalized confusion matrix\")\n",
        "  else:\n",
        "      print('Confusion matrix, without normalization')\n",
        "\n",
        "  print(cm)\n",
        "\n",
        "  plt.imshow(cm, interpolation='nearest', cmap=cmap)\n",
        "  plt.title(title)\n",
        "  plt.colorbar()\n",
        "  tick_marks = np.arange(len(classes))\n",
        "  plt.xticks(tick_marks, classes, rotation=45)\n",
        "  plt.yticks(tick_marks, classes)\n",
        "\n",
        "  fmt = '.2f' if normalize else 'd'\n",
        "  thresh = cm.max() / 2.\n",
        "  for i, j in itertools.product(range(cm.shape[0]), range(cm.shape[1])):\n",
        "      plt.text(j, i, format(cm[i, j], fmt),\n",
        "               horizontalalignment=\"center\",\n",
        "               color=\"white\" if cm[i, j] > thresh else \"black\")\n",
        "\n",
        "  plt.tight_layout()\n",
        "  plt.ylabel('True label')\n",
        "  plt.xlabel('Predicted label')\n",
        "  plt.show()\n",
        "\n",
        "\n",
        "p_test = model.predict(x_test).argmax(axis=1)\n",
        "cm = confusion_matrix(y_test, p_test)\n",
        "plot_confusion_matrix(cm, list(range(10)))\n",
        "\n"
      ],
      "execution_count": 13,
      "outputs": [
        {
          "output_type": "stream",
          "text": [
            "Confusion matrix, without normalization\n",
            "[[899  11  22   3   8   0   8   3  27  19]\n",
            " [  3 948   1   0   0   0   2   1   7  38]\n",
            " [ 29   2 828  17  31  20  55   7   5   6]\n",
            " [ 18   7  36 725  34  62  75  16   7  20]\n",
            " [  5   1  33  17 860   8  53  20   3   0]\n",
            " [  4   1  19 114  41 754  32  26   1   8]\n",
            " [  3   1   9  13   4   0 964   3   1   2]\n",
            " [ 10   0  10  11  27  12   6 917   0   7]\n",
            " [ 29   8   2   1   1   0   4   1 934  20]\n",
            " [  3  37   0   2   1   0   2   1   5 949]]\n"
          ],
          "name": "stdout"
        },
        {
          "output_type": "display_data",
          "data": {
            "image/png": "[encoded data removed]",
            "text/plain": [
              "<Figure size 432x288 with 2 Axes>"
            ]
          },
          "metadata": {
            "tags": [],
            "needs_background": "light"
          }
        }
      ]
    },
    {
      "cell_type": "code",
      "metadata": {
        "id": "dAXmd1kLTEo3",
        "colab_type": "code",
        "colab": {}
      },
      "source": [
        "# label mapping\n",
        "labels = '''airplane\n",
        "automobile\n",
        "bird\n",
        "cat\n",
        "deer\n",
        "dog\n",
        "frog\n",
        "horse\n",
        "ship\n",
        "truck'''.split()"
      ],
      "execution_count": 14,
      "outputs": []
    },
    {
      "cell_type": "code",
      "metadata": {
        "id": "ugAK1kf1THbR",
        "colab_type": "code",
        "colab": {
          "base_uri": "https://localhost:8080/",
          "height": 281
        },
        "outputId": "7dd4fa90-78a5-419d-b95f-904148295660"
      },
      "source": [
        "# Show some misclassified examples\n",
        "misclassified_idx = np.where(p_test != y_test)[0]\n",
        "i = np.random.choice(misclassified_idx)\n",
        "plt.imshow(x_test[i], cmap='gray')\n",
        "plt.title(\"True label: %s Predicted: %s\" % (labels[y_test[i]], labels[p_test[i]]));"
      ],
      "execution_count": 15,
      "outputs": [
        {
          "output_type": "display_data",
          "data": {
            "image/png": "[encoded data removed]",
            "text/plain": [
              "<Figure size 432x288 with 1 Axes>"
            ]
          },
          "metadata": {
            "tags": [],
            "needs_background": "light"
          }
        }
      ]
    },
    {
      "cell_type": "code",
      "metadata": {
        "id": "BF9V_6GETJou",
        "colab_type": "code",
        "colab": {
          "base_uri": "https://localhost:8080/",
          "height": 969
        },
        "outputId": "7b87f354-76cc-4118-b643-79457be17771"
      },
      "source": [
        "# Now that the model is so large, it's useful to summarize it\n",
        "model.summary()"
      ],
      "execution_count": 16,
      "outputs": [
        {
          "output_type": "stream",
          "text": [
            "Model: \"model\"\n",
            "_________________________________________________________________\n",
            "Layer (type)                 Output Shape              Param #   \n",
            "=================================================================\n",
            "input_1 (InputLayer)         [(None, 32, 32, 3)]       0         \n",
            "_________________________________________________________________\n",
            "conv2d (Conv2D)              (None, 32, 32, 32)        896       \n",
            "_________________________________________________________________\n",
            "batch_normalization (BatchNo (None, 32, 32, 32)        128       \n",
            "_________________________________________________________________\n",
            "conv2d_1 (Conv2D)            (None, 32, 32, 32)        9248      \n",
            "_________________________________________________________________\n",
            "batch_normalization_1 (Batch (None, 32, 32, 32)        128       \n",
            "_________________________________________________________________\n",
            "max_pooling2d (MaxPooling2D) (None, 16, 16, 32)        0         \n",
            "_________________________________________________________________\n",
            "dropout (Dropout)            (None, 16, 16, 32)        0         \n",
            "_________________________________________________________________\n",
            "conv2d_2 (Conv2D)            (None, 16, 16, 64)        18496     \n",
            "_________________________________________________________________\n",
            "batch_normalization_2 (Batch (None, 16, 16, 64)        256       \n",
            "_________________________________________________________________\n",
            "conv2d_3 (Conv2D)            (None, 16, 16, 64)        36928     \n",
            "_________________________________________________________________\n",
            "batch_normalization_3 (Batch (None, 16, 16, 64)        256       \n",
            "_________________________________________________________________\n",
            "max_pooling2d_1 (MaxPooling2 (None, 8, 8, 64)          0         \n",
            "_________________________________________________________________\n",
            "dropout_1 (Dropout)          (None, 8, 8, 64)          0         \n",
            "_________________________________________________________________\n",
            "conv2d_4 (Conv2D)            (None, 8, 8, 128)         73856     \n",
            "_________________________________________________________________\n",
            "batch_normalization_4 (Batch (None, 8, 8, 128)         512       \n",
            "_________________________________________________________________\n",
            "conv2d_5 (Conv2D)            (None, 8, 8, 128)         147584    \n",
            "_________________________________________________________________\n",
            "batch_normalization_5 (Batch (None, 8, 8, 128)         512       \n",
            "_________________________________________________________________\n",
            "max_pooling2d_2 (MaxPooling2 (None, 4, 4, 128)         0         \n",
            "_________________________________________________________________\n",
            "dropout_2 (Dropout)          (None, 4, 4, 128)         0         \n",
            "_________________________________________________________________\n",
            "flatten (Flatten)            (None, 2048)              0         \n",
            "_________________________________________________________________\n",
            "dropout_3 (Dropout)          (None, 2048)              0         \n",
            "_________________________________________________________________\n",
            "dense (Dense)                (None, 1024)              2098176   \n",
            "_________________________________________________________________\n",
            "dropout_4 (Dropout)          (None, 1024)              0         \n",
            "_________________________________________________________________\n",
            "dense_1 (Dense)              (None, 10)                10250     \n",
            "=================================================================\n",
            "Total params: 2,397,226\n",
            "Trainable params: 2,396,330\n",
            "Non-trainable params: 896\n",
            "_________________________________________________________________\n"
          ],
          "name": "stdout"
        }
      ]
    },
    {
      "cell_type": "code",
      "metadata": {
        "id": "xaMQNgAUMPKv",
        "colab_type": "code",
        "colab": {}
      },
      "source": [
        ""
      ],
      "execution_count": null,
      "outputs": []
    }
  ]
}